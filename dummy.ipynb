{
 "cells": [
  {
   "cell_type": "code",
   "execution_count": 2,
   "metadata": {},
   "outputs": [
    {
     "name": "stdout",
     "output_type": "stream",
     "text": [
      "   id first_name   last_name                       email  gender  \\\n",
      "0   1   Sidonnie    Ponsford  sponsford0@ycombinator.com  Female   \n",
      "1   2     Gillan     Brumham       gbrumham1@nytimes.com  Female   \n",
      "2   3     Zollie        Boal        zboal2@wikimedia.org    Male   \n",
      "3   4  Rosalinda  Robertelli        rrobertelli3@msn.com  Female   \n",
      "4   5       Cobb     Gravell        cgravell4@sbwire.com    Male   \n",
      "5   6     Shalom    Tresvina   stresvina5@shutterfly.com    Male   \n",
      "6   7      Miran     Rudland     mrudland6@wikipedia.org  Female   \n",
      "7   8      Clary      Arendt           carendt7@ebay.com  Female   \n",
      "8   9      Alvie     Althorp  aalthorp8@wunderground.com    Male   \n",
      "9  10    Tiphani      Balaam          tbalaam9@prweb.com  Female   \n",
      "\n",
      "        ip_address  \n",
      "0  226.156.135.171  \n",
      "1  161.230.223.142  \n",
      "2   195.73.230.183  \n",
      "3   251.120.17.196  \n",
      "4    83.215.44.113  \n",
      "5    40.208.244.58  \n",
      "6     136.222.6.62  \n",
      "7   242.43.127.139  \n",
      "8    45.119.200.97  \n",
      "9  223.130.166.104  \n"
     ]
    }
   ],
   "source": [
    "from connector.mosaicio import MosaicioConnector\n",
    "ioConnector = MosaicioConnector()\n",
    "application_train  = ioConnector.getPandasDataFrame(name=\"MOCK_DATA.csv\")\n",
    "print(application_train)"
   ]
  },
  {
   "cell_type": "code",
   "execution_count": null,
   "metadata": {},
   "outputs": [],
   "source": []
  }
 ],
 "metadata": {
  "kernelspec": {
   "display_name": "Python 3",
   "language": "python",
   "name": "python3"
  },
  "language_info": {
   "codemirror_mode": {
    "name": "ipython",
    "version": 3
   },
   "file_extension": ".py",
   "mimetype": "text/x-python",
   "name": "python",
   "nbconvert_exporter": "python",
   "pygments_lexer": "ipython3",
   "version": "3.6.2"
  }
 },
 "nbformat": 4,
 "nbformat_minor": 4
}
